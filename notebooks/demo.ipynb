{
 "cells": [
  {
   "cell_type": "markdown",
   "id": "c6a29764-f39c-431c-8e77-fbc6bfe20f01",
   "metadata": {},
   "source": [
    "# Handling WOD netCDF files\n",
    "\n",
    "The purpose of this notebook is to demonstrate the functionality of `WODbottom`.\n",
    "\n",
    "The demo is organised to show\n",
    "\n",
    "- Step 1: Explanation\n",
    "\n",
    "- Step 2: Explanation\n",
    "\n",
    "Note that when you submit a pull request, you should `clear all outputs` from your python notebook for a cleaner merge.\n"
   ]
  },
  {
   "cell_type": "code",
   "execution_count": null,
   "id": "6a1920f3",
   "metadata": {},
   "outputs": [],
   "source": [
    "import pathlib\n",
    "import sys\n",
    "\n",
    "script_dir = pathlib.Path().parent.absolute()\n",
    "parent_dir = script_dir.parents[0]\n",
    "sys.path.append(str(parent_dir))\n",
    "print(parent_dir)\n",
    "\n",
    "import xarray as xr\n",
    "import os\n",
    "from WODbottom import readers, writers, plotters, tools, utilities\n",
    "import pandas as pd\n",
    "import bathyreq\n"
   ]
  },
  {
   "cell_type": "code",
   "execution_count": null,
   "id": "1e070d18",
   "metadata": {},
   "outputs": [],
   "source": [
    "# Specify the path for writing datafiles\n",
    "data_path = os.path.join(parent_dir, 'data')"
   ]
  },
  {
   "cell_type": "code",
   "execution_count": null,
   "id": "a49f7c66",
   "metadata": {},
   "outputs": [],
   "source": [
    "input_dir = '/Users/eddifying/Dropbox/Data/WB_Atlantic_WOD_CTD/'\n",
    "\n",
    "file_count = len([name for name in os.listdir(input_dir) if os.path.isfile(os.path.join(input_dir, name))])\n",
    "print(f'There are {file_count} files in the input directory.')"
   ]
  },
  {
   "cell_type": "markdown",
   "id": "c32bb2d9",
   "metadata": {},
   "source": [
    "# Load one file"
   ]
  },
  {
   "cell_type": "code",
   "execution_count": null,
   "id": "05b7f655",
   "metadata": {},
   "outputs": [],
   "source": [
    "# Find the first file in the input_dir that starts with 'wod'\n",
    "first_file = next((f for f in os.listdir(input_dir) if f.startswith('wod')), None)\n",
    "\n",
    "if first_file:\n",
    "    file_path = os.path.join(input_dir, first_file)\n",
    "    ds = xr.open_dataset(file_path)\n",
    "    ds\n",
    "else:\n",
    "    print(\"No file starting with 'wod' found in the input directory.\")\n"
   ]
  },
  {
   "cell_type": "code",
   "execution_count": null,
   "id": "635ab7ad",
   "metadata": {},
   "outputs": [],
   "source": [
    "ds"
   ]
  },
  {
   "cell_type": "code",
   "execution_count": null,
   "id": "8453d2cc",
   "metadata": {},
   "outputs": [],
   "source": [
    "def process_file(file_name, input_dir):\n",
    "        if file_name.startswith('wod') and file_name.endswith('.nc'):\n",
    "            file_path = os.path.join(input_dir, file_name)\n",
    "            ds = xr.open_dataset(file_path, decode_timedelta=True)\n",
    "\n",
    "            if 'Salinity' in ds and 'Temperature' in ds:\n",
    "                lat = ds.lat.item()\n",
    "                lon = ds.lon.item()\n",
    "                max_z = ds.z.max().item()\n",
    "                #                max_z_index = ds.z.where(ds.z == max_z, drop=True).squeeze().item()\n",
    "                temp_at_max_z = ds.Temperature.where(ds.z == max_z, drop=True).squeeze().item()\n",
    "\n",
    "                #                temp_at_max_z = ds.Temperature.sel(z=max_z, method='nearest').item()\n",
    "                salinity_at_max_z = ds.Salinity.where(ds.z == max_z, drop=True).squeeze().item()\n",
    "                #                salinity_at_max_z = ds.Salinity.sel(z=max_z, method='nearest').item()\n",
    "                if salinity_at_max_z < 0:\n",
    "                    salinity_at_max_z = float('nan')\n",
    "                if 'Bottom_Depth' in ds:\n",
    "                    bottom_depth = ds.Bottom_Depth.item()\n",
    "                else:\n",
    "                    bottom_depth = None\n",
    "                date = ds.date.item()\n",
    "                wod_unique_cast = ds.wod_unique_cast.item()\n",
    "\n",
    "                return {\n",
    "                    'file_name': file_name,\n",
    "                    'max_z': max_z,\n",
    "                    'Temperature_at_max_z': temp_at_max_z,\n",
    "                    'Salinity_at_max_z': salinity_at_max_z,\n",
    "                    'Bottom_Depth': bottom_depth,\n",
    "                    'date': date,\n",
    "                    'Wod_unique_cast': wod_unique_cast,\n",
    "                    'lat': lat,\n",
    "                    'lon': lon\n",
    "                }\n",
    "            else:\n",
    "                return None\n",
    "        return None\n",
    "\n",
    "if 0:\n",
    "    results = []\n",
    "\n",
    "    for file_name in os.listdir(input_dir):\n",
    "        if file_name.startswith('wod'):\n",
    "            result = process_file(file_name, input_dir)\n",
    "            if result:\n",
    "                results.append(result)\n",
    "            if len(results) % 10000 == 0:\n",
    "                print(f'Processed {len(results)} files...')\n",
    "                # Save results_df to a pickle file\n",
    "                # Convert results to a DataFrame for better visualization\n",
    "                results_df = pd.DataFrame(results)\n",
    "                print(results_df)\n",
    "                last_wod_unique_cast = results_df['Wod_unique_cast'].iloc[-1]\n",
    "                results_df.to_pickle(os.path.join(data_path, f'results_df_{last_wod_unique_cast}.pkl'))\n",
    "                results = []\n",
    "\n",
    "\n",
    "\n",
    "    # Convert the DataFrame to an xarray Dataset\n",
    "    results_ds = results_df.set_index(['date']).to_xarray()\n",
    "\n",
    "    # Rename the dimension to 'wod_profile'\n",
    "    results_ds = results_ds.rename_dims({'date': 'wod_profile'})\n",
    "\n",
    "    # Add lat and lon as coordinates\n",
    "    results_ds = results_ds.set_coords(['lat', 'lon'])\n",
    "    # Display the xarray Dataset\n",
    "    results_ds\n",
    "    # Save results_ds to a NetCDF file\n",
    "    results_ds.to_netcdf(os.path.join(data_path, 'results_ds.nc'))"
   ]
  },
  {
   "cell_type": "code",
   "execution_count": null,
   "id": "f465392a",
   "metadata": {},
   "outputs": [],
   "source": [
    "\n",
    "ds = xr.open_dataset(os.path.join(data_path, 'results_ds.nc'))\n",
    "ds"
   ]
  },
  {
   "cell_type": "code",
   "execution_count": null,
   "id": "acb6eba0",
   "metadata": {},
   "outputs": [],
   "source": [
    "import matplotlib.pyplot as plt\n",
    "import cartopy.crs as ccrs\n",
    "import cartopy.feature as cfeature\n",
    "\n",
    "# Extract latitude and longitude from the results DataFrame\n",
    "#lats = results_df['lat']\n",
    "#lons = results_df['lon']\n",
    "lats = ds['lat'].values\n",
    "lons = ds['lon'].values\n",
    "\n",
    "# Create a figure and axis with a specific projection\n",
    "fig, ax = plt.subplots(figsize=(10, 5), subplot_kw={'projection': ccrs.PlateCarree()})\n",
    "\n",
    "# Add features to the map\n",
    "ax.add_feature(cfeature.LAND)\n",
    "ax.add_feature(cfeature.OCEAN)\n",
    "ax.add_feature(cfeature.COASTLINE)\n",
    "ax.add_feature(cfeature.BORDERS, linestyle=':')\n",
    "\n",
    "# Plot the locations with circles\n",
    "ax.scatter(lons, lats, color='red', s=50, edgecolor='k', transform=ccrs.PlateCarree())\n",
    "\n",
    "# Set the extent of the map\n",
    "ax.set_extent([-80, -50, 20, 50], crs=ccrs.PlateCarree())\n",
    "\n",
    "# Add gridlines\n",
    "ax.gridlines(draw_labels=True)\n",
    "\n",
    "# Add a title\n",
    "ax.set_title('Locations of WOD Casts')\n",
    "\n",
    "# Show the plot\n",
    "plt.show()"
   ]
  },
  {
   "cell_type": "code",
   "execution_count": null,
   "id": "910c5306",
   "metadata": {},
   "outputs": [],
   "source": [
    "lonlim = (-90, -40)\n",
    "latlim = (25, 55)\n",
    "# Example usage\n",
    "ds_bathy = readers.load_bathymetry(lonlim=lonlim, latlim=latlim)\n",
    "ds_bathy\n",
    "\n",
    "# Plot the bathymetry\n",
    "plotters.plot_bathy_and_argo(ds_bathy)\n",
    "ds_bathy"
   ]
  },
  {
   "cell_type": "code",
   "execution_count": null,
   "id": "5070c5df",
   "metadata": {
    "vscode": {
     "languageId": "ruby"
    }
   },
   "outputs": [],
   "source": [
    "import numpy as np\n",
    "results_ds = ds\n",
    "# Define the range for latitude and longitude\n",
    "lat_range = ds_bathy['LATITUDE'].values\n",
    "lon_range = ds_bathy['LONGITUDE'].values\n",
    "\n",
    "# Create a meshgrid\n",
    "lon_grid, lat_grid = np.meshgrid(lon_range, lat_range)\n",
    "dlon = np.diff(lon_range)\n",
    "dlat = np.diff(lat_range)\n",
    "\n",
    "print(f'Latitude grid shape: {lat_grid.shape}')\n",
    "print(f'Longitude grid shape: {lon_grid.shape}')\n",
    "\n",
    "# Find all results_ds.lat within 0.1 of lat_grid and results_ds.lon within 0.1 of lon_grid\n",
    "lat_matches = np.abs(results_ds.lat.values[:, np.newaxis, np.newaxis] - lat_grid) <= 0.1\n",
    "lon_matches = np.abs(results_ds.lon.values[:, np.newaxis, np.newaxis] - lon_grid) <= 0.1\n",
    "\n",
    "# Combine the matches to find the points that satisfy both conditions\n",
    "matches = lat_matches & lon_matches\n",
    "\n",
    "print(f'Number of matches: {np.sum(matches)}')"
   ]
  },
  {
   "cell_type": "code",
   "execution_count": null,
   "id": "2fd61b6b",
   "metadata": {},
   "outputs": [],
   "source": [
    "matches.shape"
   ]
  },
  {
   "cell_type": "code",
   "execution_count": null,
   "id": "161180cd",
   "metadata": {},
   "outputs": [],
   "source": [
    "i, j = np.where(lat_matches)\n",
    "print(f'Indices where lat_matches is True: i={i}, j={j}')"
   ]
  },
  {
   "cell_type": "code",
   "execution_count": null,
   "id": "d03f6401",
   "metadata": {},
   "outputs": [],
   "source": [
    "ds"
   ]
  },
  {
   "cell_type": "code",
   "execution_count": null,
   "id": "dd1355b8",
   "metadata": {},
   "outputs": [],
   "source": [
    "import matplotlib.pyplot as plt\n",
    "\n",
    "# Plot max_z against Bottom_Depth\n",
    "plt.figure(figsize=(8, 6))\n",
    "plt.scatter(ds['max_z'], ds['Bottom_Depth'], alpha=0.5, edgecolor='k')\n",
    "plt.xlabel('Max Depth (max_z)')\n",
    "plt.ylabel('Bottom Depth')\n",
    "plt.title('Max Depth vs Bottom Depth')\n",
    "plt.grid(True)\n",
    "plt.show()"
   ]
  },
  {
   "cell_type": "code",
   "execution_count": null,
   "id": "c9e129cd",
   "metadata": {},
   "outputs": [],
   "source": [
    "import matplotlib.pyplot as plt\n",
    "\n",
    "# Calculate the difference between max_z and Bottom_Depth\n",
    "depth_difference = ds['max_z'] - ds['Bottom_Depth']\n",
    "\n",
    "# Plot the time series\n",
    "plt.figure(figsize=(10, 6))\n",
    "plt.plot(ds['date'], depth_difference, 'o', label='Max Depth - Bottom Depth', alpha=0.7)\n",
    "plt.xlabel('Date')\n",
    "plt.ylabel('Depth Difference (m)')\n",
    "plt.title('Time Series of Max Depth Minus Bottom Depth')\n",
    "plt.legend()\n",
    "plt.grid(True)\n",
    "plt.show()"
   ]
  },
  {
   "cell_type": "code",
   "execution_count": null,
   "id": "1e07cac7",
   "metadata": {},
   "outputs": [],
   "source": []
  }
 ],
 "metadata": {
  "kernelspec": {
   "display_name": "venv",
   "language": "python",
   "name": "python3"
  },
  "language_info": {
   "codemirror_mode": {
    "name": "ipython",
    "version": 3
   },
   "file_extension": ".py",
   "mimetype": "text/x-python",
   "name": "python",
   "nbconvert_exporter": "python",
   "pygments_lexer": "ipython3",
   "version": "3.11.7"
  }
 },
 "nbformat": 4,
 "nbformat_minor": 5
}
